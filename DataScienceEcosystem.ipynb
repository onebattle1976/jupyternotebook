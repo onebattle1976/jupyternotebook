{
 "cells": [
  {
   "cell_type": "markdown",
   "id": "d487ef5f-4d1a-4bdb-b07b-24a5805b0347",
   "metadata": {},
   "source": [
    "<h1>Data Science Tools and Ecosystem</h1>"
   ]
  },
  {
   "cell_type": "markdown",
   "id": "1b26f687-0aad-403f-9818-25de2482b5fc",
   "metadata": {},
   "source": [
    "In this notebook, Data Science Tools and Ecosystem are summarized."
   ]
  },
  {
   "cell_type": "markdown",
   "id": "167b06c9-fba3-449a-a055-ddf0c762c6be",
   "metadata": {},
   "source": [
    "Some of popular languages that Data Scientists use are:\n",
    "1. Python\n",
    "2. R\n",
    "3. Scala"
   ]
  },
  {
   "cell_type": "markdown",
   "id": "eadd4db5-4ff6-43f5-8d77-1c516137f161",
   "metadata": {},
   "source": [
    "Some of commonyly used libraries used by Data Scientists include:\n",
    "1. NumPy\n",
    "2. Pandas\n",
    "3. Tensorflow"
   ]
  },
  {
   "cell_type": "markdown",
   "id": "b939ddd0-50df-405d-9a50-3e6512a557be",
   "metadata": {},
   "source": [
    "||Data Science Tools||\n",
    "|---|---|---|\n",
    "|Jupyter Notebook|RStudio|VSCode|"
   ]
  },
  {
   "cell_type": "markdown",
   "id": "51db4133-f7de-4db3-9420-e404f438c7bb",
   "metadata": {},
   "source": [
    "<h3>Below are a few examples of evaluating arithmetic expressions in Python.</h3>"
   ]
  },
  {
   "cell_type": "code",
   "execution_count": 2,
   "id": "c7f55f3f-3280-4507-a023-e9e22a77ceb5",
   "metadata": {
    "tags": []
   },
   "outputs": [
    {
     "data": {
      "text/plain": [
       "17"
      ]
     },
     "execution_count": 2,
     "metadata": {},
     "output_type": "execute_result"
    }
   ],
   "source": [
    "(3*4)+5 #This is a simple arithmetic expression to multiply then add integers."
   ]
  },
  {
   "cell_type": "code",
   "execution_count": 3,
   "id": "52e542ea-d164-46fe-b69c-b9e7ab5fe821",
   "metadata": {
    "tags": []
   },
   "outputs": [
    {
     "data": {
      "text/plain": [
       "3.3333333333333335"
      ]
     },
     "execution_count": 3,
     "metadata": {},
     "output_type": "execute_result"
    }
   ],
   "source": [
    "#This will convert 200 minutes to hours by dividing by 60.\n",
    "200/60"
   ]
  },
  {
   "cell_type": "markdown",
   "id": "83c0da41-877d-41e1-97db-251535f2dbfc",
   "metadata": {},
   "source": [
    "<strong>Objectives</strong>\n",
    "* R\n",
    "* Python\n",
    "* Scala\n",
    "* Visual Basic\n",
    "* PHP"
   ]
  },
  {
   "cell_type": "markdown",
   "id": "034e03c8-8e7f-446d-ad86-448e7510cac1",
   "metadata": {},
   "source": [
    "<h2>Author</h2>\n",
    "Gökhan GÜVEN"
   ]
  },
  {
   "cell_type": "code",
   "execution_count": null,
   "id": "00c99926-bb12-465c-b74a-1b43e7ed71b1",
   "metadata": {},
   "outputs": [],
   "source": []
  }
 ],
 "metadata": {
  "kernelspec": {
   "display_name": "Python 3 (ipykernel)",
   "language": "python",
   "name": "python3"
  },
  "language_info": {
   "codemirror_mode": {
    "name": "ipython",
    "version": 3
   },
   "file_extension": ".py",
   "mimetype": "text/x-python",
   "name": "python",
   "nbconvert_exporter": "python",
   "pygments_lexer": "ipython3",
   "version": "3.11.4"
  }
 },
 "nbformat": 4,
 "nbformat_minor": 5
}
